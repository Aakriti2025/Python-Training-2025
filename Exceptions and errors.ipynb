{
 "cells": [
  {
   "cell_type": "markdown",
   "metadata": {},
   "source": []
  },
  {
   "cell_type": "markdown",
   "metadata": {},
   "source": []
  },
  {
   "cell_type": "markdown",
   "metadata": {},
   "source": [
    "\n",
    "### Errors:\n",
    "- **Syntax Errors:** Mistakes in the structure of the code, like missing punctuation.\n",
    "  - Example: `if x == 5 print(x)` → `SyntaxError`\n",
    "\n",
    "- **Indentation Errors:** Issues with how the code is spaced.\n",
    "  - Example: `def foo():` without indenting the next line → `IndentationError`\n",
    "\n",
    "---\n",
    "\n",
    "### Exceptions:\n",
    "- **Runtime errors** that occur while the program is running. Examples include:\n",
    "  - **ZeroDivisionError:** Dividing by zero.\n",
    "  - **ValueError:** Giving a function an invalid value (like trying to convert text to a number).\n",
    "  - **IndexError:** Trying to access an element that doesn’t exist in a list.\n",
    "\n",
    "---\n",
    "\n",
    "### Handling Exceptions:\n",
    "Use `try-except` blocks to catch exceptions and prevent the program from crashing.\n",
    "\n",
    "```python\n",
    "try:\n",
    "    result = 10 / 0\n",
    "except ZeroDivisionError:\n",
    "    print(\"Cannot divide by zero!\")\n",
    "```\n",
    "\n",
    "---\n",
    "\n",
    "### Raising Exceptions:\n",
    "You can also create your own errors with `raise`.\n",
    "\n",
    "```python\n",
    "if x < 0:\n",
    "    raise ValueError(\"Number must be positive!\")\n",
    "```\n",
    "\n",
    "---\n",
    "\n",
    "**Summary:**  \n",
    "- **Errors** stop the program due to mistakes in the code.\n",
    "- **Exceptions** can be caught and handled to keep the program running.\n",
    "# syntax errors\n",
    "# runtime errors\n",
    "# logical errors\n",
    "\n",
    "\n",
    "## try and exception\n",
    "\n",
    "try:\n",
    "    read File"
   ]
  },
  {
   "cell_type": "code",
   "execution_count": null,
   "metadata": {},
   "outputs": [],
   "source": []
  }
 ],
 "metadata": {
  "language_info": {
   "name": "python"
  }
 },
 "nbformat": 4,
 "nbformat_minor": 2
}
