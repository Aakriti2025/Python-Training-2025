{
 "cells": [
  {
   "cell_type": "markdown",
   "metadata": {
    "vscode": {
     "languageId": "plaintext"
    }
   },
   "source": [
    "## NumPy and Pandas\n",
    "\n",
    "account_list = [12345, 2.4,\"account_name\"]\n",
    "\n"
   ]
  },
  {
   "cell_type": "code",
   "execution_count": 1,
   "metadata": {},
   "outputs": [
    {
     "name": "stdout",
     "output_type": "stream",
     "text": [
      "numpy                         1.21.5\n",
      "numpydoc                      1.2\n"
     ]
    }
   ],
   "source": [
    "!pip list | grep numpy\n"
   ]
  },
  {
   "cell_type": "markdown",
   "metadata": {},
   "source": [
    "### NumPy\n",
    " is a fundamental package for numerical computing in Python. It provides support for arrays, matrices, and a variety of mathematical functions to operate on these data structures efficiently.\n",
    "\n",
    "### Pandas \n",
    "is a library for data manipulation and analysis. It provides data structures like DataFrame and Series that are easy to use for handling structured data, and it includes tools for filtering, aggregating, and transforming data.\n",
    "\n",
    "For your command, !pip list | grep numpy, this will list all installed Python packages and filter the results to show any package related to numpy. The output will include the version of NumPy installed, if available."
   ]
  },
  {
   "cell_type": "markdown",
   "metadata": {},
   "source": []
  }
 ],
 "metadata": {
  "kernelspec": {
   "display_name": "Python 3",
   "language": "python",
   "name": "python3"
  },
  "language_info": {
   "codemirror_mode": {
    "name": "ipython",
    "version": 3
   },
   "file_extension": ".py",
   "mimetype": "text/x-python",
   "name": "python",
   "nbconvert_exporter": "python",
   "pygments_lexer": "ipython3",
   "version": "3.12.4"
  }
 },
 "nbformat": 4,
 "nbformat_minor": 2
}
