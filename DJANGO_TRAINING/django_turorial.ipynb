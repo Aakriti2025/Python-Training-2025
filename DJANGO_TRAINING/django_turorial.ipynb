{
 "cells": [
  {
   "cell_type": "markdown",
   "metadata": {},
   "source": [
    "project --hr\n",
    "    --onboarding\n",
    "    -- payslip -gen\n",
    "    --benefits\n",
    "\n",
    "Create venv\n",
    "python -m venv django-env\n",
    "\n",
    " source django-env/bin/activate\n",
    "\n",
    "    ## Create a project\n",
    "   $django-admin startproject <project-name>\n",
    "\n",
    "\n",
    "\n"
   ]
  },
  {
   "cell_type": "markdown",
   "metadata": {},
   "source": [
    "In Django, your project is organized into different files and folders that each serve specific roles. Here's a breakdown of what you mentioned:\n",
    "\n",
    "### **1. views.py**\n",
    "- **Purpose**: This file contains the functions (or classes) that handle the logic for processing requests and returning responses. These are called **views**.\n",
    "- **Example**:\n",
    "   ```python\n",
    "   from django.shortcuts import render\n",
    "   from django.http import HttpResponse\n",
    "\n",
    "   def index(request):\n",
    "       return HttpResponse(\"Hello World! You are at the polls index\")\n",
    "   ```\n",
    "   - **Explanation**: In this example, the `index` function is a view that takes a `request` object and returns an `HttpResponse` with the message \"Hello World! You are at the polls index\". This is how Django responds to a request when the user visits a specific URL.\n",
    "\n",
    "### **2. urls.py**\n",
    "- **Purpose**: This file contains the URL patterns that map URLs to views. It connects the URL entered by the user in the browser to the correct view in your app.\n",
    "- **Example**:\n",
    "   ```python\n",
    "   from django.urls import path\n",
    "   from . import views\n",
    "\n",
    "   urlpatterns = [\n",
    "       path('', views.index, name='index'),\n",
    "   ]\n",
    "   ```\n",
    "   - **Explanation**: Here, the `urlpatterns` list defines the mapping between the URL and the view. In this case, when the user visits the root URL (`''`), Django will call the `index` view from `views.py`.\n",
    "\n",
    "### **How They Work Together**:\n",
    "1. **`urls.py`** maps a URL to a view.\n",
    "2. When a user visits a URL, Django calls the corresponding view.\n",
    "3. The **view** processes the request and returns a response.\n",
    "4. The **response** (like an HTML page or message) is sent back to the user’s browser.\n",
    "\n",
    "### Example Flow:\n",
    "1. The user goes to `http://127.0.0.1:8000/` (root URL).\n",
    "2. Django looks up the URL in `urls.py`.\n",
    "3. It finds that the root URL is mapped to the `index` view.\n",
    "4. The `index` view runs, returning an `HttpResponse` with the message \"Hello World!\".\n",
    "\n",
    "### **Other Key Files in Django**:\n",
    "- **models.py**: Defines the structure of your database (tables and fields).\n",
    "- **templates/**: Contains HTML files that render the final content displayed to the user.\n",
    "- **static/**: Stores static files like CSS, JavaScript, or images.\n",
    "\n",
    "Together, these components (views, URLs, models, templates, and static files) work together to handle requests, process data, and display content to the user in a Django web application."
   ]
  },
  {
   "cell_type": "markdown",
   "metadata": {},
   "source": []
  }
 ],
 "metadata": {
  "language_info": {
   "name": "python"
  }
 },
 "nbformat": 4,
 "nbformat_minor": 2
}
