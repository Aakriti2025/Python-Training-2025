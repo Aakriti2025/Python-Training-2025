{
 "cells": [
  {
   "cell_type": "code",
   "execution_count": 7,
   "metadata": {},
   "outputs": [
    {
     "name": "stdout",
     "output_type": "stream",
     "text": [
      "Input: \"race car\", Output: True\n",
      "Input: \"Hello world\", Output: False\n"
     ]
    }
   ],
   "source": [
    "def is_palindrome(s):\n",
    "    s = s.replace(\" \", \"\").lower()  # Remove spaces and convert to lowercase\n",
    "    return s == s[::-1] # To ckeck if the word is same when reversed.\n",
    "\n",
    "# Sample inputs\n",
    "inputs = [\"race car\", \"Hello world\"]\n",
    "\n",
    "for input_str in inputs:\n",
    "    print(f\"Input: \\\"{input_str}\\\", Output: {is_palindrome(input_str)}\")\n"
   ]
  },
  {
   "cell_type": "code",
   "execution_count": null,
   "metadata": {},
   "outputs": [],
   "source": []
  }
 ],
 "metadata": {
  "kernelspec": {
   "display_name": "Python 3",
   "language": "python",
   "name": "python3"
  },
  "language_info": {
   "codemirror_mode": {
    "name": "ipython",
    "version": 3
   },
   "file_extension": ".py",
   "mimetype": "text/x-python",
   "name": "python",
   "nbconvert_exporter": "python",
   "pygments_lexer": "ipython3",
   "version": "3.12.4"
  }
 },
 "nbformat": 4,
 "nbformat_minor": 2
}
