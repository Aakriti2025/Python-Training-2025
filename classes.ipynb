{
 "cells": [
  {
   "cell_type": "markdown",
   "metadata": {},
   "source": [
    "**SOLID** is a set of 5 design principles in object-oriented programming that help make your code more **maintainable**, **flexible**, and **understandable**. Here's a brief explanation of each:\n",
    "\n",
    "### 1. **S - Single Responsibility Principle (SRP)**\n",
    "A class should have only **one reason to change**, meaning it should only have one job or responsibility.\n",
    "\n",
    "### 2. **O - Open/Closed Principle (OCP)**\n",
    "A class should be **open for extension** but **closed for modification**. You should be able to add new functionality without changing the existing code.\n",
    "\n",
    "### 3. **L - Liskov Substitution Principle (LSP)**\n",
    "Objects of a subclass should be **replaceable with objects of the superclass** without affecting the correctness of the program.\n",
    "\n",
    "### 4. **I - Interface Segregation Principle (ISP)**\n",
    "A class should not be forced to implement interfaces it doesn’t use. Instead, create **specific, smaller interfaces** for each role.\n",
    "\n",
    "### 5. **D - Dependency Inversion Principle (DIP)**\n",
    "Depend on **abstractions** (e.g., interfaces) rather than concrete classes. This makes your code more flexible and easier to change.\n",
    "\n",
    "---\n",
    "\n",
    "**Summary:**  \n",
    "SOLID helps make your code easier to understand, maintain, and extend by following principles for better design and structure."
   ]
  },
  {
   "cell_type": "markdown",
   "metadata": {},
   "source": [
    "class in python is basic building principles for oops concept.\n",
    "\n",
    "A **class** is a blueprint for creating objects, which are instances of the class. It defines the properties (attributes) and behaviors (methods) of the objects.\n",
    "\n",
    "### Example:\n",
    "```python\n",
    "class Car:\n",
    "    def __init__(self, make, model):  #The __init__ method in Python is a special method (also called a constructor) used to initialize a newly created object. It's automatically called when you create an instance of a class.\n",
    "\n",
    "\n",
    "        self.make = make  # Attribute\n",
    "        self.model = model  # Attribute\n",
    "\n",
    "    def drive(self):  # Method\n",
    "        return f\"The {self.make} {self.model} is driving!\"\n",
    "\n",
    "# Creating objects (instances) of the class\n",
    "car1 = Car(\"Toyota\", \"Corolla\")\n",
    "car2 = Car(\"Honda\", \"Civic\")\n",
    "\n",
    "# Accessing object attributes and methods\n",
    "print(car1.drive())  # Output: The Toyota Corolla is driving!\n",
    "print(car2.drive())  # Output: The Honda Civic is driving!\n",
    "```\n",
    "\n",
    "### Breakdown:\n",
    "- **Class:** `Car` is the class (blueprint).\n",
    "- **Object:** `car1` and `car2` are objects (instances) created from the class.\n",
    "- **Attributes:** `make` and `model` are the properties.\n",
    "- **Methods:** `drive()` is a function that defines the behavior of the object.\n",
    "\n",
    "---\n",
    "\n",
    "**Summary:**  \n",
    "A class defines **how** objects should behave. Objects are created from a class and can use its properties and methods."
   ]
  },
  {
   "cell_type": "markdown",
   "metadata": {},
   "source": [
    "## Pass"
   ]
  },
  {
   "cell_type": "markdown",
   "metadata": {},
   "source": [
    "The `pass` statement in Python is used as a **placeholder** when a statement is syntactically required but you don’t want to perform any action.\n",
    "\n",
    "### When to Use:\n",
    "- When you want to create an empty function, class, or loop, and don’t want it to do anything yet.\n",
    "- In situations where code is required syntactically but you want to leave it empty for now.\n",
    "\n",
    "### Example:\n",
    "```python\n",
    "def my_function():\n",
    "    pass  # Function does nothing\n",
    "\n",
    "class MyClass:\n",
    "    pass  # Class does nothing\n",
    "\n",
    "for i in range(5):\n",
    "    if i == 3:\n",
    "        pass  # Placeholder for future code\n",
    "    print(i)\n",
    "```\n",
    "\n",
    "### Breakdown:\n",
    "- **Function:** `my_function()` is defined, but it does nothing (because of `pass`).\n",
    "- **Class:** `MyClass` is defined but doesn't have any attributes or methods.\n",
    "- **Loop:** The `pass` inside the loop doesn’t affect the code but is a placeholder where you might add code later.\n",
    "\n",
    "---\n",
    "\n",
    "### Summary:\n",
    "`pass` allows you to write empty code blocks that don’t cause errors, useful for future code or when you’re still working on a part of your program."
   ]
  },
  {
   "cell_type": "markdown",
   "metadata": {},
   "source": []
  },
  {
   "cell_type": "code",
   "execution_count": null,
   "metadata": {},
   "outputs": [
    {
     "data": {
      "text/plain": [
       "6"
      ]
     },
     "metadata": {},
     "output_type": "display_data"
    }
   ],
   "source": [
    "string1 =\"greeks\" #The string \"greeks\" has 6 characters, so len() returns 6.\n",
    "len(string1)\n",
    "#he len() function in Python returns the number of items in an object (such as a list or a string)."
   ]
  },
  {
   "cell_type": "code",
   "execution_count": null,
   "metadata": {},
   "outputs": [
    {
     "data": {
      "text/plain": [
       "3"
      ]
     },
     "metadata": {},
     "output_type": "display_data"
    }
   ],
   "source": [
    "len([10,20,30]) #The list [10, 20, 30] has 3 elements, so len() returns 3"
   ]
  },
  {
   "cell_type": "markdown",
   "metadata": {},
   "source": []
  },
  {
   "cell_type": "code",
   "execution_count": null,
   "metadata": {},
   "outputs": [],
   "source": []
  }
 ],
 "metadata": {
  "language_info": {
   "name": "python"
  }
 },
 "nbformat": 4,
 "nbformat_minor": 2
}
