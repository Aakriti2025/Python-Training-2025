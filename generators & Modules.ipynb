{
 "cells": [
  {
   "cell_type": "markdown",
   "metadata": {},
   "source": [
    "Pip install is a package. It will already have the information , where to go and where to install the package. \n"
   ]
  },
  {
   "cell_type": "markdown",
   "metadata": {},
   "source": [
    "def function1 (argument1, argument2):\n",
    "    return value\n",
    "def main():\n",
    "    return  function1()\n",
    "\n",
    "def generator1(arg):\n",
    "    yeild value"
   ]
  },
  {
   "cell_type": "markdown",
   "metadata": {},
   "source": [
    "Generators in Python are like a machine that makes things only when you ask for them, instead of making everything at once. This saves time and memory.\n",
    "\n",
    "### Example\n",
    "Imagine you’re baking cookies. Instead of baking 100 cookies all at once, you bake one cookie whenever someone asks for it. That’s how generators work—they \"make\" data one piece at a time.\n",
    "\n",
    "### How They Work\n",
    "1. **Generator Function:**\n",
    "   A generator is made using a special type of function with the keyword `yield`.\n",
    "\n",
    "   ```python\n",
    "   def number_maker():\n",
    "       for i in range(5):\n",
    "           yield i\n",
    "   ```\n",
    "\n",
    "   - Every time you call it, it gives you the next number.\n",
    "   - It stops when all numbers are done.\n",
    "\n",
    "2. **Using It:**\n",
    "   ```python\n",
    "   gen = number_maker()\n",
    "   print(next(gen))  # Gives 0\n",
    "   print(next(gen))  # Gives 1\n",
    "   ```\n"
   ]
  },
  {
   "cell_type": "code",
   "execution_count": 5,
   "metadata": {},
   "outputs": [],
   "source": [
    "def generator (s):\n",
    "    value = 0\n",
    "    while value <s:\n",
    "        yield value\n",
    "        value +=1 #\n"
   ]
  },
  {
   "cell_type": "markdown",
   "metadata": {},
   "source": [
    "Let’s break down this code step by step in a simple way:\n",
    "\n",
    "### What the Code Does:\n",
    "This is a **generator function** called `generator`. It’s like a number machine that produces numbers one by one, starting from `0` and stopping when it reaches the number `s`.\n",
    "\n",
    "### Step-by-Step Explanation:\n",
    "1. **Function Name:**\n",
    "   ```python\n",
    "   def generator(s):\n",
    "   ```\n",
    "   This creates a machine called `generator` that takes a number `s` as input. Think of `s` as the maximum number it can go up to.\n",
    "\n",
    "2. **Start Value:**\n",
    "   ```python\n",
    "   value = 0\n",
    "   ```\n",
    "   It starts with the number `0`. This is where the counting begins.\n",
    "\n",
    "3. **While Loop:**\n",
    "   ```python\n",
    "   while value < s:\n",
    "   ```\n",
    "   The machine keeps running **as long as** the `value` is less than `s`.\n",
    "\n",
    "4. **Yield:**\n",
    "   ```python\n",
    "   yield value\n",
    "   ```\n",
    "   Instead of printing or returning all numbers at once, it gives (yields) one number at a time. This pauses the function so it can continue from where it left off later.\n",
    "\n",
    "5. **Increment Value:**\n",
    "   ```python\n",
    "   value += 1\n",
    "   ```\n",
    "   After giving a number, it adds `1` to `value` to prepare for the next number.\n",
    "\n",
    "---\n",
    "\n",
    "### Example in Action:\n",
    "Let’s see what happens when you use this function:\n",
    "\n",
    "```python\n",
    "gen = generator(3)  # Creates the number machine to go up to 3\n",
    "print(next(gen))  # Gives 0\n",
    "print(next(gen))  # Gives 1\n",
    "print(next(gen))  # Gives 2\n",
    "```\n",
    "\n",
    "- **First Call:** `next(gen)` gives `0` (the starting number).\n",
    "- **Second Call:** `next(gen)` gives `1` (it adds 1 to the last number).\n",
    "- **Third Call:** `next(gen)` gives `2` (adds 1 again).\n",
    "- **Fourth Call:** It stops because `value` is now `3`, which is not less than `s`.\n",
    "\n",
    "---\n",
    "\n",
    "### Think of It Like:\n",
    "You’re filling water bottles with a machine. \n",
    "- The machine starts at `0 bottles filled`. \n",
    "- Every time you press a button, it fills one bottle and stops until you press again.\n",
    "- It stops completely when the number of filled bottles reaches your limit (`s`)."
   ]
  },
  {
   "cell_type": "code",
   "execution_count": 6,
   "metadata": {},
   "outputs": [
    {
     "name": "stdout",
     "output_type": "stream",
     "text": [
      "0\n",
      "1\n",
      "2\n",
      "3\n",
      "4\n"
     ]
    }
   ],
   "source": [
    "for value in generator(5):\n",
    "    print (value)"
   ]
  },
  {
   "cell_type": "markdown",
   "metadata": {},
   "source": []
  },
  {
   "cell_type": "markdown",
   "metadata": {},
   "source": [
    "The `next()` function in Python is used to get the next item from an **iterator** or **generator**. \n",
    "\n",
    "### What Does It Do?\n",
    "- It **resumes** the execution of a generator function from where it left off and gives the next value produced by the `yield` statement.\n",
    "- If there are no more items to generate, it raises a `StopIteration` error.\n",
    "\n",
    "---\n",
    "\n",
    "### Example\n",
    "Let’s take a simple generator:\n",
    "\n",
    "```python\n",
    "def generator():\n",
    "    yield 1\n",
    "    yield 2\n",
    "    yield 3\n",
    "```\n",
    "\n",
    "Now, we use `next()` to get values one at a time:\n",
    "\n",
    "```python\n",
    "gen = generator()  # Create the generator\n",
    "print(next(gen))   # Output: 1\n",
    "print(next(gen))   # Output: 2\n",
    "print(next(gen))   # Output: 3\n",
    "print(next(gen))   # Raises StopIteration (no more items)\n",
    "```\n",
    "\n",
    "---\n",
    "\n",
    "### How It Works\n",
    "1. **First `next()`:** The generator starts running until it reaches the first `yield`. It pauses there and gives the value.\n",
    "2. **Second `next()`:** It resumes where it left off and runs until the next `yield`.\n",
    "3. **When No More Items:** It stops and raises `StopIteration`.\n",
    "\n",
    "---\n",
    "\n",
    "### Real-Life Analogy\n",
    "Imagine a vending machine:\n",
    "- Each time you press a button (`next()`), it gives you one snack (`yield` value).\n",
    "- Once the machine runs out of snacks, pressing the button will give you an error (`StopIteration`)."
   ]
  },
  {
   "cell_type": "markdown",
   "metadata": {},
   "source": [
    "##### Why Use Generators?\n",
    "- **Saves Memory:** It doesn’t keep all the data in memory, only the one it is working on.\n",
    "- **Great for Big Data:** If you have a lot of data (like millions of lines in a file), it processes one at a time instead of all at once.\n",
    "\n",
    "\n",
    "### Easy Real-Life Example\n",
    "Imagine you’re watching a series online. Instead of downloading all the episodes at once, you stream one episode when you want to watch it. That’s how generators work—they give you one item at a time, as needed!"
   ]
  },
  {
   "cell_type": "markdown",
   "metadata": {},
   "source": [
    "# >1\n",
    "# 100,000 list\n",
    "# each - 100 field\n",
    "\n",
    "for each-record in record: # it's not for general generating purpose.\n"
   ]
  },
  {
   "cell_type": "code",
   "execution_count": 13,
   "metadata": {},
   "outputs": [
    {
     "data": {
      "text/plain": [
       "[2, 4, 6, 8, 10, 12, 14]"
      ]
     },
     "execution_count": 13,
     "metadata": {},
     "output_type": "execute_result"
    }
   ],
   "source": [
    "x = [1,2,3,4,5,6,7]\n",
    "# list comprehension\n",
    "y = [i* 2 for i in x]\n",
    "y\n",
    "'''This is a list comprehension, which is a concise way to create a new list in Python. It takes each element from the list x, performs an operation on it (i * 2), and stores the result in a new list y.\n",
    "\n",
    "Code Breakdown:\n",
    "Input List: x = [1, 2, 3, 4, 5, 6, 7]\n",
    "Operation: For each i in x, multiply it by 2 (i * 2).\n",
    "New List: [i * 2 for i in x] generates [2, 4, 6, 8, 10, 12, 14].'''\n",
    "\n"
   ]
  },
  {
   "cell_type": "code",
   "execution_count": 15,
   "metadata": {},
   "outputs": [
    {
     "data": {
      "text/plain": [
       "[False, True, False, True, False, True, False]"
      ]
     },
     "execution_count": 15,
     "metadata": {},
     "output_type": "execute_result"
    }
   ],
   "source": [
    "def even_number (i):\n",
    "    return i%2 == 0 #This function returns True if a number i is even (i % 2 == 0), otherwise False\n",
    "\n",
    "x = [1,2,3,4,5,6,7]\n",
    "# list comprehension\n",
    "y = [even_number(i) for i in x] #For each number i in x, it applies even_number(i) and adds the result (True or False) to y.\n",
    "\n",
    "y"
   ]
  },
  {
   "cell_type": "markdown",
   "metadata": {},
   "source": [
    "## Modules\n",
    "A **module** in Python is like a toolbox that contains ready-made tools (functions, variables, and classes) you can use in your program to save time and effort. Instead of writing everything from scratch, you can just import a module and use its features.\n",
    "\n",
    "---\n",
    "\n",
    "### Key Points:\n",
    "1. **What It Is:**\n",
    "   - A module is just a Python file with a `.py` extension that contains code (functions, classes, or variables).\n",
    "\n",
    "2. **Why Use Modules?**\n",
    "   - To **reuse code** across multiple programs.\n",
    "   - To **organize code** into smaller, logical parts.\n",
    "   - To use **pre-written tools** from Python or third-party developers.\n",
    "\n",
    "3. **Types of Modules:**\n",
    "   - **Built-in Modules:** Pre-installed in Python (e.g., `math`, `os`, `random`).\n",
    "   - **Custom Modules:** Created by you or others (e.g., a file named `mymodule.py`).\n",
    "   - **Third-party Modules:** Downloaded from libraries like `pandas`, `numpy`, etc.\n",
    "\n",
    "---\n",
    "\n",
    "### Example: Using a Built-in Module\n",
    "```python\n",
    "import math  # Import the math module\n",
    "print(math.sqrt(16))  # Output: 4.0\n",
    "```\n",
    "Here, the `math` module provides a ready-made function `sqrt()` to calculate the square root.\n",
    "\n",
    "---\n",
    "\n",
    "### Example: Creating Your Own Module\n",
    "1. Create a file `mymodule.py`:\n",
    "   ```python\n",
    "   def greet(name):\n",
    "       return f\"Hello, {name}!\"\n",
    "   ```\n",
    "2. Use it in another file:\n",
    "   ```python\n",
    "   import mymodule\n",
    "   print(mymodule.greet(\"Alice\"))  # Output: Hello, Alice!\n",
    "   ```\n",
    "\n",
    "---\n",
    "\n",
    "### Real-Life Analogy:\n",
    "Think of a module as a recipe book. Instead of inventing new recipes, you just look up the one you need and follow it!"
   ]
  },
  {
   "cell_type": "code",
   "execution_count": 16,
   "metadata": {},
   "outputs": [
    {
     "data": {
      "text/plain": [
       "'/Users/aakubabby/Python-Training-2025'"
      ]
     },
     "execution_count": 16,
     "metadata": {},
     "output_type": "execute_result"
    }
   ],
   "source": [
    "import os\n",
    "os.getcwd()"
   ]
  },
  {
   "cell_type": "code",
   "execution_count": 17,
   "metadata": {},
   "outputs": [],
   "source": [
    "os.mkdir(os.path.join(os.getcwd(),\"directory1\"))"
   ]
  },
  {
   "cell_type": "code",
   "execution_count": 18,
   "metadata": {},
   "outputs": [],
   "source": [
    "import math"
   ]
  },
  {
   "cell_type": "code",
   "execution_count": 19,
   "metadata": {},
   "outputs": [
    {
     "data": {
      "text/plain": [
       "2.0"
      ]
     },
     "execution_count": 19,
     "metadata": {},
     "output_type": "execute_result"
    }
   ],
   "source": [
    "math.log10(100)"
   ]
  },
  {
   "cell_type": "code",
   "execution_count": 21,
   "metadata": {},
   "outputs": [
    {
     "data": {
      "text/plain": [
       "['__doc__',\n",
       " '__file__',\n",
       " '__loader__',\n",
       " '__name__',\n",
       " '__package__',\n",
       " '__spec__',\n",
       " 'acos',\n",
       " 'acosh',\n",
       " 'asin',\n",
       " 'asinh',\n",
       " 'atan',\n",
       " 'atan2',\n",
       " 'atanh',\n",
       " 'cbrt',\n",
       " 'ceil',\n",
       " 'comb',\n",
       " 'copysign',\n",
       " 'cos',\n",
       " 'cosh',\n",
       " 'degrees',\n",
       " 'dist',\n",
       " 'e',\n",
       " 'erf',\n",
       " 'erfc',\n",
       " 'exp',\n",
       " 'exp2',\n",
       " 'expm1',\n",
       " 'fabs',\n",
       " 'factorial',\n",
       " 'floor',\n",
       " 'fmod',\n",
       " 'frexp',\n",
       " 'fsum',\n",
       " 'gamma',\n",
       " 'gcd',\n",
       " 'hypot',\n",
       " 'inf',\n",
       " 'isclose',\n",
       " 'isfinite',\n",
       " 'isinf',\n",
       " 'isnan',\n",
       " 'isqrt',\n",
       " 'lcm',\n",
       " 'ldexp',\n",
       " 'lgamma',\n",
       " 'log',\n",
       " 'log10',\n",
       " 'log1p',\n",
       " 'log2',\n",
       " 'modf',\n",
       " 'nan',\n",
       " 'nextafter',\n",
       " 'perm',\n",
       " 'pi',\n",
       " 'pow',\n",
       " 'prod',\n",
       " 'radians',\n",
       " 'remainder',\n",
       " 'sin',\n",
       " 'sinh',\n",
       " 'sqrt',\n",
       " 'sumprod',\n",
       " 'tan',\n",
       " 'tanh',\n",
       " 'tau',\n",
       " 'trunc',\n",
       " 'ulp']"
      ]
     },
     "execution_count": 21,
     "metadata": {},
     "output_type": "execute_result"
    }
   ],
   "source": [
    "dir(math) # these are the number of functions that you can use in the module."
   ]
  },
  {
   "cell_type": "code",
   "execution_count": 24,
   "metadata": {},
   "outputs": [
    {
     "name": "stdout",
     "output_type": "stream",
     "text": [
      "Help on built-in function log10 in module math:\n",
      "\n",
      "log10(x, /)\n",
      "    Return the base 10 logarithm of x.\n",
      "\n"
     ]
    }
   ],
   "source": [
    "help(math.log10)"
   ]
  },
  {
   "cell_type": "code",
   "execution_count": 2,
   "metadata": {},
   "outputs": [
    {
     "name": "stdout",
     "output_type": "stream",
     "text": [
      "Before func call 2\n",
      "inside func call 4\n",
      "after func call 2\n"
     ]
    }
   ],
   "source": [
    "x = 2\n",
    "print(f\"Before func call {x}\")\n",
    "\n",
    "def func1 (x):\n",
    "    print(f\"inside func call {x}\")\n",
    "\n",
    "func1 (4)\n",
    "print(f\"after func call {x}\")"
   ]
  },
  {
   "cell_type": "markdown",
   "metadata": {},
   "source": [
    "This code demonstrates the concept of **variable scope** in Python, where variables defined inside a function are separate from those defined outside the function.\n",
    "\n",
    "---\n",
    "\n",
    "### Code Breakdown:\n",
    "\n",
    "1. **Global Variable `x`:**\n",
    "   ```python\n",
    "   x = 2\n",
    "   print(f\"Before func call {x}\")\n",
    "   ```\n",
    "   - Here, `x` is a global variable with a value of `2`.\n",
    "   - The first `print` statement outputs: `Before func call 2`.\n",
    "\n",
    "2. **Function Definition:**\n",
    "   ```python\n",
    "   def func1(x):\n",
    "       print(f\"inside func call {x}\")\n",
    "   ```\n",
    "   - The function `func1` takes an argument `x`.\n",
    "   - The `x` inside the function is **local** to the function and doesn’t affect the global `x`.\n",
    "\n",
    "3. **Function Call:**\n",
    "   ```python\n",
    "   func1(4)\n",
    "   ```\n",
    "   - The function is called with the argument `4`.\n",
    "   - Inside the function, `x` refers to the **local variable**, which is `4` in this case.\n",
    "   - The second `print` statement outputs: `inside func call 4`.\n",
    "\n",
    "4. **After Function Call:**\n",
    "   ```python\n",
    "   print(f\"after func call {x}\")\n",
    "   ```\n",
    "   - After the function call, the global `x` remains unchanged (`2`).\n",
    "   - The final `print` statement outputs: `after func call 2`.\n",
    "\n",
    "---\n",
    "\n",
    "### Key Concepts:\n",
    "- **Global Scope:** The variable `x` outside the function (`x = 2`) is in the global scope and is not affected by the function.\n",
    "- **Local Scope:** The `x` inside `func1` is local to the function and only exists while the function is running.\n",
    "\n",
    "---\n",
    "\n",
    "\n"
   ]
  },
  {
   "cell_type": "markdown",
   "metadata": {},
   "source": [
    "The `global` keyword in Python is used to modify a variable that is **defined outside a function** (in the global scope) from **inside a function**. Without `global`, a variable inside a function is treated as **local**, meaning it doesn’t affect the variable outside the function.\n",
    "\n",
    "---\n",
    "\n",
    "### Why `global` Is Rarely Used:\n",
    "Your instructor likely said this because **using `global` is considered bad practice** in most cases. Here's why:\n",
    "1. **Unintended Side Effects:** Modifying global variables can lead to unexpected bugs if other parts of the program also rely on those variables.\n",
    "2. **Hard to Debug:** It becomes difficult to track how and where the variable's value is changed.\n",
    "3. **Poor Design:** Code using `global` can make programs harder to understand and maintain. It often indicates the function is doing more than it should.\n",
    "\n",
    "---\n",
    "\n",
    "### Example of `global`:\n",
    "\n",
    "```python\n",
    "x = 10  # Global variable\n",
    "\n",
    "def change_x():\n",
    "    global x\n",
    "    x = 20  # Modifies the global variable\n",
    "\n",
    "change_x()\n",
    "print(x)  # Output: 20\n",
    "```\n",
    "\n",
    "- **What Happens:** The `global x` inside the function tells Python to use the `x` defined outside the function. The function then changes its value from `10` to `20`.\n",
    "\n",
    "---\n",
    "\n",
    "### Alternative to `global`:\n",
    "Instead of using `global`, it's better to pass variables as arguments to functions and return the new value. This makes the code cleaner and easier to manage.\n",
    "\n",
    "```python\n",
    "x = 10\n",
    "\n",
    "def change_x(x):\n",
    "    return x + 10  # Returns a new value without modifying the global variable\n",
    "\n",
    "x = change_x(x)  # Update the global variable explicitly\n",
    "print(x)  # Output: 20\n",
    "```\n",
    "\n",
    "---\n",
    "\n",
    "### When to Use `global`:\n",
    "`global` is sometimes useful in small scripts or for variables shared across modules, but it’s best to avoid it in most cases by designing your code better."
   ]
  },
  {
   "cell_type": "code",
   "execution_count": null,
   "metadata": {},
   "outputs": [],
   "source": [
    "main() # main function\n",
    "if __name__ == '__main__"
   ]
  },
  {
   "cell_type": "markdown",
   "metadata": {},
   "source": [
    "`main()` is not a special function in Python like it is in some other programming languages (e.g., C, Java). However, it is commonly used as a **convention** in Python to structure programs, especially in larger scripts. Here's how it works:\n",
    "\n",
    "---\n",
    "\n",
    "### What is `main()`?\n",
    "\n",
    "- `main()` is simply a **regular Python function**.\n",
    "- It is often used to contain the primary logic of your program, separating the program's entry point from other code (like helper functions or global variables).\n",
    "\n",
    "---\n",
    "\n",
    "### Why Use `main()`?\n",
    "\n",
    "1. **Improves Code Organization:** Keeps the main logic of your program separate from definitions of functions, classes, and global variables.\n",
    "2. **Allows Reusability:** Other scripts can import your file as a module without immediately running the main code.\n",
    "3. **Explicit Program Entry Point:** Makes it clear where the program starts.\n",
    "\n",
    "---\n",
    "\n",
    "### How It Works:\n",
    "\n",
    "1. **Define the `main()` Function:**\n",
    "   The `main()` function is where you put the primary logic of your program.\n",
    "\n",
    "   ```python\n",
    "   def main():\n",
    "       print(\"Hello, World!\")\n",
    "   ```\n",
    "\n",
    "2. **Call `main()` Using a Special Check:**\n",
    "   To ensure the `main()` function is called **only when the script is executed directly**, you use the following code:\n",
    "\n",
    "   ```python\n",
    "   if __name__ == \"__main__\":\n",
    "       main()\n",
    "   ```\n",
    "\n",
    "   - `__name__ == \"__main__\"` checks if the script is being run directly (not imported as a module).\n",
    "\n",
    "---\n",
    "\n",
    "### Example:\n",
    "\n",
    "```python\n",
    "def greet(name):\n",
    "    return f\"Hello, {name}!\"\n",
    "\n",
    "def main():\n",
    "    name = input(\"What is your name? \")\n",
    "    print(greet(name))\n",
    "\n",
    "if __name__ == \"__main__\":\n",
    "    main()\n",
    "```\n",
    "\n",
    "1. **Run Directly:**\n",
    "   If you run this file, the `main()` function will execute and prompt you to enter your name.\n",
    "\n",
    "   ```bash\n",
    "   python script.py\n",
    "   ```\n",
    "\n",
    "2. **Imported as a Module:**\n",
    "   If another script imports this file, the `main()` function will **not run** automatically. Only specific functions (like `greet`) can be used.\n",
    "\n",
    "---\n",
    "\n",
    "### Summary:\n",
    "- `main()` is a convention for organizing the starting logic of your program.\n",
    "- Use the `if __name__ == \"__main__\":` check to control when `main()` is executed. This ensures flexibility and clarity in your code."
   ]
  },
  {
   "cell_type": "markdown",
   "metadata": {},
   "source": [
    "## OOps concept"
   ]
  },
  {
   "cell_type": "markdown",
   "metadata": {},
   "source": []
  }
 ],
 "metadata": {
  "kernelspec": {
   "display_name": "Python 3",
   "language": "python",
   "name": "python3"
  },
  "language_info": {
   "codemirror_mode": {
    "name": "ipython",
    "version": 3
   },
   "file_extension": ".py",
   "mimetype": "text/x-python",
   "name": "python",
   "nbconvert_exporter": "python",
   "pygments_lexer": "ipython3",
   "version": "3.12.4"
  }
 },
 "nbformat": 4,
 "nbformat_minor": 2
}
